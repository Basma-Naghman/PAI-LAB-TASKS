{
 "cells": [
  {
   "cell_type": "markdown",
   "metadata": {},
   "source": [
    "# Imports"
   ]
  },
  {
   "cell_type": "code",
   "execution_count": null,
   "metadata": {
    "_cell_guid": "b1076dfc-b9ad-4769-8c92-a6c4dae69d19",
    "_uuid": "8f2839f25d086af736a60e9eeb907d3b93b6e0e5",
    "execution": {
     "iopub.execute_input": "2025-02-03T06:41:08.873026Z",
     "iopub.status.busy": "2025-02-03T06:41:08.872649Z",
     "iopub.status.idle": "2025-02-03T06:41:08.877845Z",
     "shell.execute_reply": "2025-02-03T06:41:08.876883Z",
     "shell.execute_reply.started": "2025-02-03T06:41:08.872990Z"
    },
    "trusted": true
   },
   "outputs": [],
   "source": [
    "# Basic Imports \n",
    "import os\n",
    "import numpy as np\n",
    "import matplotlib.pyplot as plt\n",
    "import seaborn as sns\n",
    "\n",
    "# Keras Imports \n",
    "from tensorflow.keras.preprocessing.image import ImageDataGenerator\n",
    "from tensorflow.keras.models import Sequential\n",
    "from tensorflow.keras.layers import Conv2D, MaxPooling2D, Flatten, Dense, Dropout, BatchNormalization\n",
    "from tensorflow.keras.optimizers import Adam\n",
    "from tensorflow.keras.callbacks import EarlyStopping,ReduceLROnPlateau\n",
    "\n",
    "# sklearn imports\n",
    "from sklearn.metrics import classification_report, confusion_matrix\n"
   ]
  },
  {
   "cell_type": "markdown",
   "metadata": {},
   "source": [
    "# 1. Data Loading and Preprocessing\n"
   ]
  },
  {
   "cell_type": "code",
   "execution_count": null,
   "metadata": {
    "execution": {
     "iopub.execute_input": "2025-02-03T06:42:15.759371Z",
     "iopub.status.busy": "2025-02-03T06:42:15.759064Z",
     "iopub.status.idle": "2025-02-03T06:42:15.763361Z",
     "shell.execute_reply": "2025-02-03T06:42:15.762506Z",
     "shell.execute_reply.started": "2025-02-03T06:42:15.759349Z"
    },
    "trusted": true
   },
   "outputs": [],
   "source": [
    "data_dir = 'images\\images'\n",
    "train_dir = os.path.join(data_dir, 'train')\n",
    "validation_dir = os.path.join(data_dir, 'test')"
   ]
  },
  {
   "cell_type": "code",
   "execution_count": null,
   "metadata": {
    "execution": {
     "iopub.execute_input": "2025-02-03T06:45:55.592092Z",
     "iopub.status.busy": "2025-02-03T06:45:55.591724Z",
     "iopub.status.idle": "2025-02-03T06:46:28.382475Z",
     "shell.execute_reply": "2025-02-03T06:46:28.381605Z",
     "shell.execute_reply.started": "2025-02-03T06:45:55.592066Z"
    },
    "trusted": true
   },
   "outputs": [],
   "source": [
    "# Image Data Generator\n",
    "train_datagen = ImageDataGenerator(\n",
    "    rescale=1./255,  \n",
    "    rotation_range=20,\n",
    "    zoom_range=0.2, \n",
    "    horizontal_flip=True\n",
    ")\n",
    "validation_datagen = ImageDataGenerator(rescale=1./255)\n",
    "\n",
    "\n",
    "train_generator = train_datagen.flow_from_directory(\n",
    "    train_dir,\n",
    "    target_size=(48, 48),\n",
    "    batch_size=64,\n",
    "    class_mode='categorical',\n",
    "    color_mode='grayscale'\n",
    ")\n",
    "\n",
    "\n",
    "validation_generator = validation_datagen.flow_from_directory(\n",
    "    validation_dir,\n",
    "    target_size=(48, 48),\n",
    "    batch_size=64,\n",
    "    class_mode='categorical',\n",
    "    color_mode='grayscale'\n",
    ")"
   ]
  },
  {
   "cell_type": "markdown",
   "metadata": {},
   "source": [
    "# 2. EDA (Visualizing Some Images)\n"
   ]
  },
  {
   "cell_type": "code",
   "execution_count": null,
   "metadata": {
    "execution": {
     "iopub.execute_input": "2025-02-03T06:50:45.207422Z",
     "iopub.status.busy": "2025-02-03T06:50:45.207122Z",
     "iopub.status.idle": "2025-02-03T06:50:45.870662Z",
     "shell.execute_reply": "2025-02-03T06:50:45.869838Z",
     "shell.execute_reply.started": "2025-02-03T06:50:45.207401Z"
    },
    "trusted": true
   },
   "outputs": [],
   "source": [
    "class_names = list(train_generator.class_indices.keys())\n",
    "\n",
    "images, labels = next(train_generator)\n",
    "plt.figure(figsize=(10, 10))\n",
    "for i in range(9):\n",
    "    plt.subplot(3, 3, i + 1)\n",
    "    plt.imshow(images[i].reshape(48, 48), cmap='gray')\n",
    "    plt.title(class_names[np.argmax(labels[i])])\n",
    "    plt.axis('off')\n",
    "plt.tight_layout()\n",
    "plt.show()"
   ]
  },
  {
   "cell_type": "markdown",
   "metadata": {},
   "source": [
    "# 3. CNN Model Architecture"
   ]
  },
  {
   "cell_type": "code",
   "execution_count": null,
   "metadata": {
    "execution": {
     "iopub.execute_input": "2025-02-03T06:59:56.845715Z",
     "iopub.status.busy": "2025-02-03T06:59:56.845315Z",
     "iopub.status.idle": "2025-02-03T06:59:56.952085Z",
     "shell.execute_reply": "2025-02-03T06:59:56.951229Z",
     "shell.execute_reply.started": "2025-02-03T06:59:56.845684Z"
    },
    "trusted": true
   },
   "outputs": [],
   "source": [
    "# 3. CNN Model Architecture\n",
    "model = Sequential([\n",
    "    Conv2D(64, (3, 3), activation='relu', input_shape=(48, 48, 1)),\n",
    "    BatchNormalization(),\n",
    "    MaxPooling2D(2, 2),\n",
    "    Dropout(0.25),\n",
    "\n",
    "    Conv2D(128, (3, 3), activation='relu'),\n",
    "    BatchNormalization(),\n",
    "    MaxPooling2D(2, 2),\n",
    "    Dropout(0.25),\n",
    "\n",
    "    Conv2D(256, (3, 3), activation='relu'),\n",
    "    BatchNormalization(),\n",
    "    MaxPooling2D(2, 2),\n",
    "    Dropout(0.25),\n",
    "\n",
    "    Flatten(),\n",
    "    Dense(512, activation='relu'),\n",
    "    BatchNormalization(),\n",
    "    Dropout(0.5),\n",
    "\n",
    "    Dense(7, activation='softmax')\n",
    "])\n",
    "\n",
    "model.compile(optimizer=Adam(learning_rate=0.001), loss='categorical_crossentropy', metrics=['accuracy'])\n",
    "\n",
    "model.summary()"
   ]
  },
  {
   "cell_type": "markdown",
   "metadata": {},
   "source": [
    "# 4. Model Training\n"
   ]
  },
  {
   "cell_type": "code",
   "execution_count": null,
   "metadata": {
    "execution": {
     "iopub.execute_input": "2025-02-03T07:04:32.856143Z",
     "iopub.status.busy": "2025-02-03T07:04:32.855767Z",
     "iopub.status.idle": "2025-02-03T07:31:35.174379Z",
     "shell.execute_reply": "2025-02-03T07:31:35.173601Z",
     "shell.execute_reply.started": "2025-02-03T07:04:32.856114Z"
    },
    "trusted": true
   },
   "outputs": [],
   "source": [
    "# Callbacks\n",
    "# early_stopping = EarlyStopping(monitor='val_loss', patience=5, restore_best_weights=True)\n",
    "# lr_scheduler = ReduceLROnPlateau(monitor='val_loss', factor=0.2, patience=3, min_lr=1e-6, verbose=1)\n",
    "\n",
    "# # Model Training\n",
    "# history = model.fit(\n",
    "#     train_generator,\n",
    "#     epochs=5,\n",
    "#     validation_data=validation_generator,\n",
    "#     callbacks=[early_stopping, lr_scheduler]\n",
    "# )"
   ]
  },
  {
   "cell_type": "code",
   "execution_count": null,
   "metadata": {},
   "outputs": [],
   "source": [
    "# save the model \n",
    "model.save('emotion_model.h5')"
   ]
  },
  {
   "cell_type": "markdown",
   "metadata": {},
   "source": [
    "# 6. Evaluation - Classification Report & Confusion Matrix"
   ]
  },
  {
   "cell_type": "code",
   "execution_count": null,
   "metadata": {
    "execution": {
     "iopub.execute_input": "2025-02-03T07:39:15.922288Z",
     "iopub.status.busy": "2025-02-03T07:39:15.921921Z",
     "iopub.status.idle": "2025-02-03T07:39:16.390397Z",
     "shell.execute_reply": "2025-02-03T07:39:16.389463Z",
     "shell.execute_reply.started": "2025-02-03T07:39:15.922259Z"
    },
    "trusted": true
   },
   "outputs": [],
   "source": [
    "# 6. Evaluation - Classification Report & Confusion Matrix\n",
    "val_images, val_labels = next(validation_generator)\n",
    "predictions = model.predict(val_images)\n",
    "y_true = np.argmax(val_labels, axis=1)\n",
    "y_pred = np.argmax(predictions, axis=1)\n",
    "\n",
    "print(classification_report(y_true, y_pred, target_names=class_names))\n",
    "\n",
    "cm = confusion_matrix(y_true, y_pred)\n",
    "plt.figure(figsize=(8, 6))\n",
    "sns.heatmap(cm, annot=True, fmt='d', cmap='Blues', xticklabels=class_names, yticklabels=class_names)\n",
    "plt.xlabel('Predicted')\n",
    "plt.ylabel('Actual')\n",
    "plt.title('Confusion Matrix')\n",
    "plt.show()"
   ]
  },
  {
   "cell_type": "markdown",
   "metadata": {},
   "source": [
    "# 7. Detection System\n"
   ]
  },
  {
   "cell_type": "code",
   "execution_count": 5,
   "metadata": {},
   "outputs": [
    {
     "name": "stdout",
     "output_type": "stream",
     "text": [
      "1/1 [==============================] - 1s 911ms/step\n"
     ]
    },
    {
     "data": {
      "image/png": "[encoded data removed]",
      "text/plain": [
       "<Figure size 640x480 with 1 Axes>"
      ]
     },
     "metadata": {},
     "output_type": "display_data"
    },
    {
     "name": "stdout",
     "output_type": "stream",
     "text": [
      "Emotion: Fear, Confidence: 26.04%\n"
     ]
    }
   ],
   "source": [
    "import cv2\n",
    "import numpy as np\n",
    "import os\n",
    "import matplotlib.pyplot as plt\n",
    "from tensorflow.keras.models import load_model\n",
    "\n",
    "# Define class names\n",
    "class_names = [\"Angry\", \"Disgust\", \"Fear\", \"Happy\", \"Neutral\", \"Sad\", \"Surprise\"]\n",
    "\n",
    "# Load the trained model\n",
    "model_path = 'emotion_model.h5'\n",
    "if not os.path.exists(model_path):\n",
    "    raise FileNotFoundError(f\"Error: Model file '{model_path}' not found!\")\n",
    "\n",
    "model = load_model(model_path)\n",
    "\n",
    "def detect_emotion(image_path):\n",
    "    # Check if the image file exists\n",
    "    if not os.path.exists(image_path):\n",
    "        raise FileNotFoundError(f\"Error: Image file '{image_path}' not found!\")\n",
    "\n",
    "    # Load the image in grayscale\n",
    "    img = cv2.imread(image_path, cv2.IMREAD_GRAYSCALE)\n",
    "\n",
    "    if img is None:\n",
    "        raise ValueError(f\"Error: Unable to read the image at '{image_path}'. Check the file format!\")\n",
    "\n",
    "    # Resize the image to (48,48) to match model input\n",
    "    img_resized = cv2.resize(img, (48, 48))\n",
    "\n",
    "    # Normalize pixel values (0-255 → 0-1)\n",
    "    img_array = img_resized / 255.0\n",
    "\n",
    "    # Expand dimensions to match model input shape (batch_size, height, width, channels)\n",
    "    img_array = np.expand_dims(img_array, axis=0)  # Add batch dimension\n",
    "    img_array = np.expand_dims(img_array, axis=-1)  # Add channel dimension\n",
    "\n",
    "    # Predict emotion\n",
    "    prediction = model.predict(img_array)\n",
    "    predicted_index = np.argmax(prediction)\n",
    "    predicted_class = class_names[predicted_index]\n",
    "    confidence = round(float(prediction[0][predicted_index]) * 100, 2)\n",
    "\n",
    "    # Display the image with prediction (Using Matplotlib for better compatibility)\n",
    "    plt.imshow(img_resized, cmap=\"gray\")\n",
    "    plt.title(f\"{predicted_class} ({confidence}%)\")\n",
    "    plt.axis(\"off\")\n",
    "    plt.show()\n",
    "\n",
    "    return predicted_class, confidence\n",
    "\n",
    "# Example Detection\n",
    "image_path = r'images\\images\\train\\angry\\1.jpg'  # Use raw string (r\"...\") for Windows paths\n",
    "predicted_emotion, confidence = detect_emotion(image_path)\n",
    "print(f\"Emotion: {predicted_emotion}, Confidence: {confidence}%\")\n"
   ]
  },
  {
   "cell_type": "code",
   "execution_count": null,
   "metadata": {
    "trusted": true
   },
   "outputs": [],
   "source": []
  }
 ],
 "metadata": {
  "kaggle": {
   "accelerator": "gpu",
   "dataSources": [
    {
     "datasetId": 99505,
     "sourceId": 234911,
     "sourceType": "datasetVersion"
    }
   ],
   "dockerImageVersionId": 30840,
   "isGpuEnabled": true,
   "isInternetEnabled": true,
   "language": "python",
   "sourceType": "notebook"
  },
  "kernelspec": {
   "display_name": "tensorflow",
   "language": "python",
   "name": "python3"
  },
  "language_info": {
   "codemirror_mode": {
    "name": "ipython",
    "version": 3
   },
   "file_extension": ".py",
   "mimetype": "text/x-python",
   "name": "python",
   "nbconvert_exporter": "python",
   "pygments_lexer": "ipython3",
   "version": "3.8.20"
  }
 },
 "nbformat": 4,
 "nbformat_minor": 4
}
